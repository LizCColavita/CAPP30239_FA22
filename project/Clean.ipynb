{
 "cells": [
  {
   "cell_type": "markdown",
   "id": "4738b09a",
   "metadata": {},
   "source": [
    "PROJECT - CLEAN DATA <br>\n",
    "CAPP30239 <br>\n",
    "Liz Colavita <br>\n",
    "\n",
    "This file cleans the sports-political-donations.csv file use for my project"
   ]
  },
  {
   "cell_type": "code",
   "execution_count": 201,
   "id": "b7f02287",
   "metadata": {},
   "outputs": [],
   "source": [
    "## load packages\n",
    "import pandas as pd\n",
    "import numpy as np\n",
    "\n",
    "## load data\n",
    "df = pd.read_csv('sports-political-donations.csv')"
   ]
  },
  {
   "cell_type": "code",
   "execution_count": 202,
   "id": "b6d1d1a7",
   "metadata": {},
   "outputs": [
    {
     "data": {
      "text/html": [
       "<div>\n",
       "<style scoped>\n",
       "    .dataframe tbody tr th:only-of-type {\n",
       "        vertical-align: middle;\n",
       "    }\n",
       "\n",
       "    .dataframe tbody tr th {\n",
       "        vertical-align: top;\n",
       "    }\n",
       "\n",
       "    .dataframe thead th {\n",
       "        text-align: right;\n",
       "    }\n",
       "</style>\n",
       "<table border=\"1\" class=\"dataframe\">\n",
       "  <thead>\n",
       "    <tr style=\"text-align: right;\">\n",
       "      <th></th>\n",
       "      <th>Owner</th>\n",
       "      <th>Team</th>\n",
       "      <th>League</th>\n",
       "      <th>Recipient</th>\n",
       "      <th>Amount</th>\n",
       "      <th>Election Year</th>\n",
       "      <th>Party</th>\n",
       "    </tr>\n",
       "  </thead>\n",
       "  <tbody>\n",
       "    <tr>\n",
       "      <th>0</th>\n",
       "      <td>Adam Silver</td>\n",
       "      <td>Commissioner</td>\n",
       "      <td>NBA</td>\n",
       "      <td>WRIGHT 2016</td>\n",
       "      <td>$4,000</td>\n",
       "      <td>2016</td>\n",
       "      <td>Democrat</td>\n",
       "    </tr>\n",
       "    <tr>\n",
       "      <th>1</th>\n",
       "      <td>Adam Silver</td>\n",
       "      <td>Commissioner</td>\n",
       "      <td>NBA</td>\n",
       "      <td>BIDEN FOR PRESIDENT</td>\n",
       "      <td>$2,800</td>\n",
       "      <td>2020</td>\n",
       "      <td>Democrat</td>\n",
       "    </tr>\n",
       "    <tr>\n",
       "      <th>2</th>\n",
       "      <td>Adam Silver</td>\n",
       "      <td>Commissioner</td>\n",
       "      <td>NBA</td>\n",
       "      <td>CORY 2020</td>\n",
       "      <td>$2,700</td>\n",
       "      <td>2020</td>\n",
       "      <td>Democrat</td>\n",
       "    </tr>\n",
       "    <tr>\n",
       "      <th>3</th>\n",
       "      <td>Adam Silver</td>\n",
       "      <td>Commissioner</td>\n",
       "      <td>NBA</td>\n",
       "      <td>Kamala Harris for the People</td>\n",
       "      <td>$2,700</td>\n",
       "      <td>2020</td>\n",
       "      <td>Democrat</td>\n",
       "    </tr>\n",
       "    <tr>\n",
       "      <th>4</th>\n",
       "      <td>Adam Silver</td>\n",
       "      <td>Commissioner</td>\n",
       "      <td>NBA</td>\n",
       "      <td>Win The Era PAC</td>\n",
       "      <td>$2,700</td>\n",
       "      <td>2020</td>\n",
       "      <td>Democrat</td>\n",
       "    </tr>\n",
       "  </tbody>\n",
       "</table>\n",
       "</div>"
      ],
      "text/plain": [
       "         Owner          Team League                     Recipient   Amount  \\\n",
       "0  Adam Silver  Commissioner    NBA                   WRIGHT 2016  $4,000    \n",
       "1  Adam Silver  Commissioner    NBA           BIDEN FOR PRESIDENT  $2,800    \n",
       "2  Adam Silver  Commissioner    NBA                     CORY 2020  $2,700    \n",
       "3  Adam Silver  Commissioner    NBA  Kamala Harris for the People  $2,700    \n",
       "4  Adam Silver  Commissioner    NBA               Win The Era PAC  $2,700    \n",
       "\n",
       "   Election Year     Party  \n",
       "0           2016  Democrat  \n",
       "1           2020  Democrat  \n",
       "2           2020  Democrat  \n",
       "3           2020  Democrat  \n",
       "4           2020  Democrat  "
      ]
     },
     "execution_count": 202,
     "metadata": {},
     "output_type": "execute_result"
    }
   ],
   "source": [
    "df.head()"
   ]
  },
  {
   "cell_type": "code",
   "execution_count": 203,
   "id": "727daf52",
   "metadata": {},
   "outputs": [
    {
     "data": {
      "text/plain": [
       "numpy.int64"
      ]
     },
     "execution_count": 203,
     "metadata": {},
     "output_type": "execute_result"
    }
   ],
   "source": [
    "# remove $ from Amount column and turn into an integer as opposed to a string to make calculations easier\n",
    "nums = []\n",
    "for _, row in df.iterrows():\n",
    "    string = row[\"Amount\"] \n",
    "    string = string.replace(\"$\", \"\")\n",
    "    string = string.replace(\",\", \"\")\n",
    "    string = string.strip()\n",
    "    num = int(string)\n",
    "    nums.append(num)\n",
    "    \n",
    "df.Amount = nums\n",
    "\n",
    "#check that modifications worked\n",
    "type(df[\"Amount\"][1])"
   ]
  },
  {
   "cell_type": "code",
   "execution_count": 204,
   "id": "ac2db095",
   "metadata": {},
   "outputs": [
    {
     "data": {
      "text/plain": [
       "0                     WRIGHT 2016\n",
       "1             BIDEN FOR PRESIDENT\n",
       "2                       CORY 2020\n",
       "3    KAMALA HARRIS FOR THE PEOPLE\n",
       "4                 WIN THE ERA PAC\n",
       "Name: Recipient, dtype: object"
      ]
     },
     "execution_count": 204,
     "metadata": {},
     "output_type": "execute_result"
    }
   ],
   "source": [
    "# make recipient campaigns all uppercase\n",
    "campaigns = []\n",
    "for _, row in df.iterrows():\n",
    "    string = row[\"Recipient\"]\n",
    "    string = string.upper()\n",
    "    campaigns.append(string)\n",
    "    \n",
    "df.Recipient = campaigns\n",
    "\n",
    "# check that modifications worked\n",
    "df.Recipient.head()"
   ]
  },
  {
   "cell_type": "code",
   "execution_count": 205,
   "id": "fb2ea289",
   "metadata": {},
   "outputs": [],
   "source": [
    "# create binary indicator variable for female owner/commissioner\n",
    "\n",
    "female_owners = ['Amy Adams Strunk', 'Billie Jean King', 'Cathy Engelbert', 'Darcie Glazer Kassewitz', 'Dawn Trudeau', 'Denise DeBartolo York', \n",
    "    'E. Stanley Kroenke and Ann Kroenke', 'Gail Miller', 'Gayle Benson', 'Ginny Gilder', 'Henry and Susan Samueli',\n",
    "    'Ilana Kloss', 'Janice S. McNair', 'Jeanie Buss (Buss Family Trusts)', 'Jimmy and Susan Haslam', \n",
    "    'Jody Allen (Paul G. Allen Trust)', 'Virginia McCaskey', 'Kelly Loeffler', 'Kim Pegula', 'Laura Ricketts', 'Lisa Brummel',\n",
    "    'Marian Ilitch', 'Mary Brock', 'Mary Kelly', 'Sheila Ford Hamp']\n",
    "\n",
    "Female = []\n",
    "\n",
    "for _,row in df.iterrows():\n",
    "    owner = row[\"Owner\"]\n",
    "    if owner in female_owners:\n",
    "        Female.append(1)\n",
    "    else: Female.append(0)\n",
    "\n",
    "df['Female'] = Female"
   ]
  },
  {
   "cell_type": "code",
   "execution_count": 206,
   "id": "fa3000a6",
   "metadata": {},
   "outputs": [],
   "source": [
    "# create separate records when an owner/commissioner \"owns\" more than 1 team\n",
    "entries = []\n",
    "for index, row in df.iterrows():\n",
    "    comma = \",\"\n",
    "    if comma in row[\"League\"]:\n",
    "        leagues = row[\"League\"]\n",
    "        leagues_split = leagues.split(\",\")\n",
    "        teams = row[\"Team\"]\n",
    "        teams_split = teams.split(\",\")\n",
    "        own = row[\"Owner\"]\n",
    "        rec = row[\"Recipient\"]\n",
    "        amt = row[\"Amount\"]\n",
    "        yr = row[\"Election Year\"]\n",
    "        py = row[\"Party\"]\n",
    "        fe = row[\"Female\"]\n",
    "        for ind,league in enumerate(leagues_split):\n",
    "            dict = {'Owner': own, 'Team': teams_split[ind].strip(), 'League': leagues_split[ind].strip(), 'Recipient': rec, \n",
    "                    'Amount': amt, 'Election Year': yr,'Party': py, 'Female': fe}\n",
    "            entries.append(dict)\n",
    "    else: \n",
    "        own = row[\"Owner\"]\n",
    "        team = row[\"Team\"]\n",
    "        league = row[\"League\"]\n",
    "        rec = row[\"Recipient\"]\n",
    "        amt = row[\"Amount\"]\n",
    "        yr = row[\"Election Year\"]\n",
    "        py = row[\"Party\"]\n",
    "        fe = row[\"Female\"]\n",
    "        dict = {'Owner': own, 'Team': team, 'League': league, 'Recipient': rec, \n",
    "                       'Amount': amt, 'Election Year': yr,'Party': py, 'Female': fe}\n",
    "        entries.append(dict)"
   ]
  },
  {
   "cell_type": "code",
   "execution_count": 211,
   "id": "769fcd69",
   "metadata": {},
   "outputs": [
    {
     "data": {
      "text/html": [
       "<div>\n",
       "<style scoped>\n",
       "    .dataframe tbody tr th:only-of-type {\n",
       "        vertical-align: middle;\n",
       "    }\n",
       "\n",
       "    .dataframe tbody tr th {\n",
       "        vertical-align: top;\n",
       "    }\n",
       "\n",
       "    .dataframe thead th {\n",
       "        text-align: right;\n",
       "    }\n",
       "</style>\n",
       "<table border=\"1\" class=\"dataframe\">\n",
       "  <thead>\n",
       "    <tr style=\"text-align: right;\">\n",
       "      <th></th>\n",
       "      <th>Owner</th>\n",
       "      <th>Team</th>\n",
       "      <th>League</th>\n",
       "      <th>Recipient</th>\n",
       "      <th>Amount</th>\n",
       "      <th>Election Year</th>\n",
       "      <th>Party</th>\n",
       "      <th>Female</th>\n",
       "    </tr>\n",
       "  </thead>\n",
       "  <tbody>\n",
       "    <tr>\n",
       "      <th>0</th>\n",
       "      <td>Adam Silver</td>\n",
       "      <td>Commissioner</td>\n",
       "      <td>NBA</td>\n",
       "      <td>WRIGHT 2016</td>\n",
       "      <td>4000</td>\n",
       "      <td>2016</td>\n",
       "      <td>Democrat</td>\n",
       "      <td>0</td>\n",
       "    </tr>\n",
       "    <tr>\n",
       "      <th>1</th>\n",
       "      <td>Adam Silver</td>\n",
       "      <td>Commissioner</td>\n",
       "      <td>NBA</td>\n",
       "      <td>BIDEN FOR PRESIDENT</td>\n",
       "      <td>2800</td>\n",
       "      <td>2020</td>\n",
       "      <td>Democrat</td>\n",
       "      <td>0</td>\n",
       "    </tr>\n",
       "    <tr>\n",
       "      <th>2</th>\n",
       "      <td>Adam Silver</td>\n",
       "      <td>Commissioner</td>\n",
       "      <td>NBA</td>\n",
       "      <td>CORY 2020</td>\n",
       "      <td>2700</td>\n",
       "      <td>2020</td>\n",
       "      <td>Democrat</td>\n",
       "      <td>0</td>\n",
       "    </tr>\n",
       "    <tr>\n",
       "      <th>3</th>\n",
       "      <td>Adam Silver</td>\n",
       "      <td>Commissioner</td>\n",
       "      <td>NBA</td>\n",
       "      <td>KAMALA HARRIS FOR THE PEOPLE</td>\n",
       "      <td>2700</td>\n",
       "      <td>2020</td>\n",
       "      <td>Democrat</td>\n",
       "      <td>0</td>\n",
       "    </tr>\n",
       "    <tr>\n",
       "      <th>4</th>\n",
       "      <td>Adam Silver</td>\n",
       "      <td>Commissioner</td>\n",
       "      <td>NBA</td>\n",
       "      <td>WIN THE ERA PAC</td>\n",
       "      <td>2700</td>\n",
       "      <td>2020</td>\n",
       "      <td>Democrat</td>\n",
       "      <td>0</td>\n",
       "    </tr>\n",
       "  </tbody>\n",
       "</table>\n",
       "</div>"
      ],
      "text/plain": [
       "         Owner          Team League                     Recipient  Amount  \\\n",
       "0  Adam Silver  Commissioner    NBA                   WRIGHT 2016    4000   \n",
       "1  Adam Silver  Commissioner    NBA           BIDEN FOR PRESIDENT    2800   \n",
       "2  Adam Silver  Commissioner    NBA                     CORY 2020    2700   \n",
       "3  Adam Silver  Commissioner    NBA  KAMALA HARRIS FOR THE PEOPLE    2700   \n",
       "4  Adam Silver  Commissioner    NBA               WIN THE ERA PAC    2700   \n",
       "\n",
       "   Election Year     Party  Female  \n",
       "0           2016  Democrat       0  \n",
       "1           2020  Democrat       0  \n",
       "2           2020  Democrat       0  \n",
       "3           2020  Democrat       0  \n",
       "4           2020  Democrat       0  "
      ]
     },
     "execution_count": 211,
     "metadata": {},
     "output_type": "execute_result"
    }
   ],
   "source": [
    "#create new dataframe from list of entries\n",
    "df2 = pd.DataFrame(entries)\n",
    "df2.head()"
   ]
  },
  {
   "cell_type": "code",
   "execution_count": 212,
   "id": "39191ae1",
   "metadata": {},
   "outputs": [],
   "source": [
    "# save pandas df to a new csv files\n",
    "df2.to_csv(\"sports-political-donations-clean.csv\", index= False)"
   ]
  },
  {
   "cell_type": "code",
   "execution_count": null,
   "id": "126257cd",
   "metadata": {},
   "outputs": [],
   "source": []
  }
 ],
 "metadata": {
  "kernelspec": {
   "display_name": "Python 3 (ipykernel)",
   "language": "python",
   "name": "python3"
  },
  "language_info": {
   "codemirror_mode": {
    "name": "ipython",
    "version": 3
   },
   "file_extension": ".py",
   "mimetype": "text/x-python",
   "name": "python",
   "nbconvert_exporter": "python",
   "pygments_lexer": "ipython3",
   "version": "3.9.7"
  },
  "vscode": {
   "interpreter": {
    "hash": "31f2aee4e71d21fbe5cf8b01ff0e069b9275f58929596ceb00d14d90e3e16cd6"
   }
  }
 },
 "nbformat": 4,
 "nbformat_minor": 5
}
