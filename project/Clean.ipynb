{
 "cells": [
  {
   "cell_type": "markdown",
   "id": "4738b09a",
   "metadata": {},
   "source": [
    "PROJECT - CLEAN DATA\n",
    "CAPP30239\n",
    "Liz Colavita\n",
    "\n",
    "This file cleans the sports-political-donations.csv file use for my project"
   ]
  },
  {
   "cell_type": "code",
   "execution_count": 58,
   "id": "b7f02287",
   "metadata": {},
   "outputs": [],
   "source": [
    "## load packages\n",
    "import pandas as pd\n",
    "import numpy as np\n",
    "\n",
    "## load data\n",
    "df = pd.read_csv('sports-political-donations.csv')"
   ]
  },
  {
   "cell_type": "code",
   "execution_count": 59,
   "id": "b6d1d1a7",
   "metadata": {},
   "outputs": [
    {
     "data": {
      "text/html": [
       "<div>\n",
       "<style scoped>\n",
       "    .dataframe tbody tr th:only-of-type {\n",
       "        vertical-align: middle;\n",
       "    }\n",
       "\n",
       "    .dataframe tbody tr th {\n",
       "        vertical-align: top;\n",
       "    }\n",
       "\n",
       "    .dataframe thead th {\n",
       "        text-align: right;\n",
       "    }\n",
       "</style>\n",
       "<table border=\"1\" class=\"dataframe\">\n",
       "  <thead>\n",
       "    <tr style=\"text-align: right;\">\n",
       "      <th></th>\n",
       "      <th>Owner</th>\n",
       "      <th>Team</th>\n",
       "      <th>League</th>\n",
       "      <th>Recipient</th>\n",
       "      <th>Amount</th>\n",
       "      <th>Election Year</th>\n",
       "      <th>Party</th>\n",
       "    </tr>\n",
       "  </thead>\n",
       "  <tbody>\n",
       "    <tr>\n",
       "      <th>0</th>\n",
       "      <td>Adam Silver</td>\n",
       "      <td>Commissioner</td>\n",
       "      <td>NBA</td>\n",
       "      <td>WRIGHT 2016</td>\n",
       "      <td>$4,000</td>\n",
       "      <td>2016</td>\n",
       "      <td>Democrat</td>\n",
       "    </tr>\n",
       "    <tr>\n",
       "      <th>1</th>\n",
       "      <td>Adam Silver</td>\n",
       "      <td>Commissioner</td>\n",
       "      <td>NBA</td>\n",
       "      <td>BIDEN FOR PRESIDENT</td>\n",
       "      <td>$2,800</td>\n",
       "      <td>2020</td>\n",
       "      <td>Democrat</td>\n",
       "    </tr>\n",
       "    <tr>\n",
       "      <th>2</th>\n",
       "      <td>Adam Silver</td>\n",
       "      <td>Commissioner</td>\n",
       "      <td>NBA</td>\n",
       "      <td>CORY 2020</td>\n",
       "      <td>$2,700</td>\n",
       "      <td>2020</td>\n",
       "      <td>Democrat</td>\n",
       "    </tr>\n",
       "    <tr>\n",
       "      <th>3</th>\n",
       "      <td>Adam Silver</td>\n",
       "      <td>Commissioner</td>\n",
       "      <td>NBA</td>\n",
       "      <td>Kamala Harris for the People</td>\n",
       "      <td>$2,700</td>\n",
       "      <td>2020</td>\n",
       "      <td>Democrat</td>\n",
       "    </tr>\n",
       "    <tr>\n",
       "      <th>4</th>\n",
       "      <td>Adam Silver</td>\n",
       "      <td>Commissioner</td>\n",
       "      <td>NBA</td>\n",
       "      <td>Win The Era PAC</td>\n",
       "      <td>$2,700</td>\n",
       "      <td>2020</td>\n",
       "      <td>Democrat</td>\n",
       "    </tr>\n",
       "  </tbody>\n",
       "</table>\n",
       "</div>"
      ],
      "text/plain": [
       "         Owner          Team League                     Recipient   Amount  \\\n",
       "0  Adam Silver  Commissioner    NBA                   WRIGHT 2016  $4,000    \n",
       "1  Adam Silver  Commissioner    NBA           BIDEN FOR PRESIDENT  $2,800    \n",
       "2  Adam Silver  Commissioner    NBA                     CORY 2020  $2,700    \n",
       "3  Adam Silver  Commissioner    NBA  Kamala Harris for the People  $2,700    \n",
       "4  Adam Silver  Commissioner    NBA               Win The Era PAC  $2,700    \n",
       "\n",
       "   Election Year     Party  \n",
       "0           2016  Democrat  \n",
       "1           2020  Democrat  \n",
       "2           2020  Democrat  \n",
       "3           2020  Democrat  \n",
       "4           2020  Democrat  "
      ]
     },
     "execution_count": 59,
     "metadata": {},
     "output_type": "execute_result"
    }
   ],
   "source": [
    "df.head()"
   ]
  },
  {
   "cell_type": "code",
   "execution_count": 60,
   "id": "727daf52",
   "metadata": {},
   "outputs": [
    {
     "data": {
      "text/plain": [
       "0    4000\n",
       "1    2800\n",
       "2    2700\n",
       "3    2700\n",
       "4    2700\n",
       "Name: Amount, dtype: int64"
      ]
     },
     "execution_count": 60,
     "metadata": {},
     "output_type": "execute_result"
    }
   ],
   "source": [
    "# remove $ from Amount column and turn into an integer as opposed to a string to make calculations easier\n",
    "nums = []\n",
    "for _, row in df.iterrows():\n",
    "    string = row[\"Amount\"] \n",
    "    string = string.replace(\"$\", \"\")\n",
    "    string = string.replace(\",\", \"\")\n",
    "    string = string.strip()\n",
    "    num = int(string)\n",
    "    nums.append(num)\n",
    "    \n",
    "df.Amount = nums\n",
    "\n",
    "#check that modifications worked\n",
    "type(df[\"Amount\"][1])"
   ]
  },
  {
   "cell_type": "code",
   "execution_count": 68,
   "id": "ac2db095",
   "metadata": {},
   "outputs": [
    {
     "data": {
      "text/plain": [
       "0                     WRIGHT 2016\n",
       "1             BIDEN FOR PRESIDENT\n",
       "2                       CORY 2020\n",
       "3    KAMALA HARRIS FOR THE PEOPLE\n",
       "4                 WIN THE ERA PAC\n",
       "Name: Recipient, dtype: object"
      ]
     },
     "execution_count": 68,
     "metadata": {},
     "output_type": "execute_result"
    }
   ],
   "source": [
    "# make recipient campaigns all uppercase\n",
    "campaigns = []\n",
    "for _, row in df.iterrows():\n",
    "    string = row[\"Recipient\"]\n",
    "    string = string.upper()\n",
    "    campaigns.append(string)\n",
    "    \n",
    "df.Recipient = campaigns\n",
    "\n",
    "# check that modifications worked\n",
    "df.Recipient.head()"
   ]
  },
  {
   "cell_type": "code",
   "execution_count": 69,
   "id": "39191ae1",
   "metadata": {},
   "outputs": [],
   "source": [
    "# save pandas df to a new csv file\n",
    "df.to_csv(\"sports-political-donations-clean.csv\")"
   ]
  }
 ],
 "metadata": {
  "kernelspec": {
   "display_name": "Python 3 (ipykernel)",
   "language": "python",
   "name": "python3"
  },
  "language_info": {
   "codemirror_mode": {
    "name": "ipython",
    "version": 3
   },
   "file_extension": ".py",
   "mimetype": "text/x-python",
   "name": "python",
   "nbconvert_exporter": "python",
   "pygments_lexer": "ipython3",
   "version": "3.9.7"
  }
 },
 "nbformat": 4,
 "nbformat_minor": 5
}
